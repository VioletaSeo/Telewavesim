{
 "cells": [
  {
   "cell_type": "markdown",
   "metadata": {},
   "source": [
    "# Python Example 3: Simulating SKS splitting"
   ]
  },
  {
   "cell_type": "markdown",
   "metadata": {},
   "source": [
    "In this example we generate P receiver functions for a model that includes a lower-crustal anisotropic layer. This example follows that of Figure 2 in Porter et al. (2011). \n",
    "\n",
    "Start by importing the necessary modules"
   ]
  },
  {
   "cell_type": "code",
   "execution_count": 1,
   "metadata": {},
   "outputs": [],
   "source": [
    "import numpy as np\n",
    "from obspy.core import Stream\n",
    "from obspy.signal.rotate import rotate_ne_rt\n",
    "from telewavesim import plane as pw\n",
    "from telewavesim import utils as ut\n",
    "from telewavesim import wiggle as wg\n",
    "from telewavesim import conf as cf"
   ]
  },
  {
   "cell_type": "markdown",
   "metadata": {},
   "source": [
    "Select the model file:"
   ]
  },
  {
   "cell_type": "code",
   "execution_count": 2,
   "metadata": {},
   "outputs": [],
   "source": [
    "modfile = '../../models/model_SKS.txt'"
   ]
  },
  {
   "cell_type": "markdown",
   "metadata": {},
   "source": [
    "Select the type of incident wave - options are 'P', 'SV', 'SH', or 'Si', which is an isotropic S-wave source. SKS waves are SV polarized, so select `'SV'`"
   ]
  },
  {
   "cell_type": "code",
   "execution_count": 3,
   "metadata": {},
   "outputs": [],
   "source": [
    "cf.wvtype = 'SV'"
   ]
  },
  {
   "cell_type": "markdown",
   "metadata": {},
   "source": [
    "Next we use global variables to define the desired time series"
   ]
  },
  {
   "cell_type": "code",
   "execution_count": 4,
   "metadata": {},
   "outputs": [],
   "source": [
    "cf.nt = 3000 # Number of samples\n",
    "cf.dt = 0.05 # sampling rate in seconds"
   ]
  },
  {
   "cell_type": "markdown",
   "metadata": {},
   "source": [
    "Now specify the parameters of the incident wavefield in terms of a horizontal slowness and back-azimuth. In this example the slowness won't change, so we can pass it as a global variable now. The back-azimuth will range from 0 to 360 degrees with a 10-degree increment, so we define a `np.ndarray` for this variable and do not yet pass it as a global variable."
   ]
  },
  {
   "cell_type": "code",
   "execution_count": 5,
   "metadata": {},
   "outputs": [],
   "source": [
    "cf.slow = 0.04 # Horizontal slowness (or ray parameter) in s/km \n",
    "baz = np.arange(0., 360., 10.)"
   ]
  },
  {
   "cell_type": "markdown",
   "metadata": {},
   "source": [
    "Read the model parameters from the model file and set global variables (hidden in the function). Up to here, the steps could have been performed in no particular order, except the name of the file that needs to be defined before the call to `read_model()`"
   ]
  },
  {
   "cell_type": "code",
   "execution_count": 6,
   "metadata": {},
   "outputs": [],
   "source": [
    "ut.read_model(modfile)"
   ]
  },
  {
   "cell_type": "markdown",
   "metadata": {},
   "source": [
    "The following step is useful for plotting the plane wave seismograms with respect to the predicted propagation time through the model (from lowermost interface up to the seafloor). Since we are doing SKS wave modeling, we are interested in plane wave seismograms so let's calculate it."
   ]
  },
  {
   "cell_type": "code",
   "execution_count": 7,
   "metadata": {},
   "outputs": [
    {
     "name": "stdout",
     "output_type": "stream",
     "text": [
      "Predicted propagation time from model: 21.6 sec\n"
     ]
    }
   ],
   "source": [
    "t1 = ut.calc_ttime(cf.slow)\n",
    "print('Predicted propagation time from model: {0:4.1f} sec'.format(t1))"
   ]
  },
  {
   "cell_type": "markdown",
   "metadata": {},
   "source": [
    "As we need to loop through back-azimuth values, we will initialize empty `Stream` objects to store the traces from the output of the main routine. "
   ]
  },
  {
   "cell_type": "code",
   "execution_count": 8,
   "metadata": {},
   "outputs": [],
   "source": [
    "trR = Stream(); trT = Stream()"
   ]
  },
  {
   "cell_type": "markdown",
   "metadata": {},
   "source": [
    "Now the main loop over back-azimuths where all calculations are done - self explanatory"
   ]
  },
  {
   "cell_type": "code",
   "execution_count": null,
   "metadata": {},
   "outputs": [],
   "source": [
    "# Loop over range of data \n",
    "for bb in baz:\n",
    "\n",
    "    # Pass baz global variable\n",
    "    cf.baz = bb\n",
    "\n",
    "    # Calculate the plane wave seismograms\n",
    "    trxyz = pw.plane_land()\n",
    "\n",
    "    # Extract East, North and Vertical\n",
    "    ntr = trxyz[0]\n",
    "    etr = trxyz[1]\n",
    "    ztr = trxyz[2]\n",
    "\n",
    "    # Copy to radial and transverse\n",
    "    rtr = ntr.copy()\n",
    "    ttr = etr.copy()\n",
    "\n",
    "    # Rotate to radial and transverse\n",
    "    rtr.data, ttr.data = rotate_ne_rt(ntr.data, etr.data, bb)\n",
    "\n",
    "    # Append to streams\n",
    "    trR.append(rtr)\n",
    "    trT.append(ttr)"
   ]
  },
  {
   "cell_type": "markdown",
   "metadata": {},
   "source": [
    "The result of the previous loop is a set of radial and transverse seismograms. We simply filter the `Stream` objects using some frequency corners to simulate the frequency content of SKS waves"
   ]
  },
  {
   "cell_type": "code",
   "execution_count": null,
   "metadata": {},
   "outputs": [],
   "source": [
    "# Set frequency corners in Hz\n",
    "f1 = 0.01\n",
    "f2 = 0.2\n",
    "\n",
    "# Filter to get wave-like traces\n",
    "trR.filter('bandpass',freqmin=f1, freqmax=f2, corners=2, zerophase=True)\n",
    "trT.filter('bandpass',freqmin=f1, freqmax=f2, corners=2, zerophase=True)"
   ]
  },
  {
   "cell_type": "raw",
   "metadata": {},
   "source": [
    "Now plot the result as wiggles, sorted by back-azimuth. "
   ]
  },
  {
   "cell_type": "code",
   "execution_count": null,
   "metadata": {},
   "outputs": [],
   "source": [
    "# Plot as wiggles\n",
    "wg.pw_wiggles_baz(trR, trT, 'test', btyp='baz', scale=0.05, t1=t1, tmin=0., tmax=40, save=False, ftitle='_synt')"
   ]
  },
  {
   "cell_type": "markdown",
   "metadata": {},
   "source": [
    "And Voilà! \n",
    "\n",
    "Can you find the fast direction and approximate delay time? Easy from the plot of radial components. Null measurements are also quite obvious from the absence of signal on the transverse component at back-azimtuths corresponding to the fast and slow axes. In this example the anisotropic layer is defined by a hexagonal symmetry with a fast axis, with 10% anisotropy. You can play with the model to have two anisotropic layers with different fast axis orientation, or use anisotropic elastic tensors determined in the lab (e.g., use `'ol'` (abbreviation for 'olivine') instead of `'tri'` in the definition of the layer in the model file). Enjoy!"
   ]
  }
 ],
 "metadata": {
  "kernelspec": {
   "display_name": "Python 3",
   "language": "python",
   "name": "python3"
  },
  "language_info": {
   "codemirror_mode": {
    "name": "ipython",
    "version": 3
   },
   "file_extension": ".py",
   "mimetype": "text/x-python",
   "name": "python",
   "nbconvert_exporter": "python",
   "pygments_lexer": "ipython3",
   "version": "3.7.3"
  }
 },
 "nbformat": 4,
 "nbformat_minor": 2
}
