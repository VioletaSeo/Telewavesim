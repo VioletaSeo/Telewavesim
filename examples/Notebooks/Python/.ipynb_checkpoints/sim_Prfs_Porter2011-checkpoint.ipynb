{
 "cells": [
  {
   "cell_type": "markdown",
   "metadata": {},
   "source": [
    "# Python Example 2: Lower crustal anisotropy"
   ]
  },
  {
   "cell_type": "markdown",
   "metadata": {},
   "source": [
    "In this example we generate P receiver functions for a model that includes a lower-crustal anisotropic layer. This example follows that of Figure 2 in Porter et al. (2011). \n",
    "\n",
    "Start by importing the necessary modules"
   ]
  },
  {
   "cell_type": "code",
   "execution_count": 1,
   "metadata": {},
   "outputs": [],
   "source": [
    "import numpy as np\n",
    "from obspy.core import Stream\n",
    "from obspy.signal.rotate import rotate_ne_rt\n",
    "from telewavesim import plane as pw\n",
    "from telewavesim import utils as ut\n",
    "from telewavesim import wiggle as wg\n",
    "from telewavesim import conf as cf"
   ]
  },
  {
   "cell_type": "markdown",
   "metadata": {},
   "source": [
    "Select the model file:"
   ]
  },
  {
   "cell_type": "code",
   "execution_count": 2,
   "metadata": {},
   "outputs": [],
   "source": [
    "modfile = '../../models/model_Porter2011.txt'"
   ]
  },
  {
   "cell_type": "markdown",
   "metadata": {},
   "source": [
    "Select the type of incident wave - options are 'P', 'SV', 'SH', or 'Si', which is an isotropic S-wave source"
   ]
  },
  {
   "cell_type": "code",
   "execution_count": 3,
   "metadata": {},
   "outputs": [],
   "source": [
    "cf.wvtype = 'P'"
   ]
  },
  {
   "cell_type": "markdown",
   "metadata": {},
   "source": [
    "Next we use global variables to define the desired time series"
   ]
  },
  {
   "cell_type": "code",
   "execution_count": 4,
   "metadata": {},
   "outputs": [],
   "source": [
    "cf.nt = 3000 # Number of samples\n",
    "cf.dt = 0.01 # sampling rate in seconds"
   ]
  },
  {
   "cell_type": "markdown",
   "metadata": {},
   "source": [
    "Now specify the parameters of the incident wavefield in terms of a horizontal slowness and back-azimuth. In this example the slowness won't change, so we can pass it as a global variable now. The back-azimuth will range from 0 to 360 degrees with a 10-degree increment, so we define a `np.ndarray` for this variable and do not yet pass it as a global variable."
   ]
  },
  {
   "cell_type": "code",
   "execution_count": 5,
   "metadata": {},
   "outputs": [],
   "source": [
    "cf.slow = 0.06 # Horizontal slowness (or ray parameter) in s/km \n",
    "baz = np.arange(0., 360., 10.)"
   ]
  },
  {
   "cell_type": "markdown",
   "metadata": {},
   "source": [
    "Read the model parameters from the model file and set global variables (hidden in the function). Up to here, the steps could have been performed in no particular order, except the name of the file that needs to be defined before the call to `read_model()`"
   ]
  },
  {
   "cell_type": "code",
   "execution_count": 6,
   "metadata": {},
   "outputs": [],
   "source": [
    "ut.read_model(modfile)"
   ]
  },
  {
   "cell_type": "markdown",
   "metadata": {},
   "source": [
    "As we need to loop through back-azimuth values, we will initialize empty `Stream` objects to store the traces from the output of the main routine. "
   ]
  },
  {
   "cell_type": "code",
   "execution_count": 7,
   "metadata": {},
   "outputs": [],
   "source": [
    "trR = Stream(); trT = Stream()"
   ]
  },
  {
   "cell_type": "markdown",
   "metadata": {},
   "source": [
    "Now the main loop over back-azimuths where all calculations are done - self explanatory"
   ]
  },
  {
   "cell_type": "code",
   "execution_count": 8,
   "metadata": {},
   "outputs": [],
   "source": [
    "# Loop over range of data \n",
    "for bb in baz:\n",
    "\n",
    "    # Pass baz global variable\n",
    "    cf.baz = bb\n",
    "\n",
    "    # Calculate the plane waves seismograms\n",
    "    trxyz = pw.plane_land()\n",
    "\n",
    "    # Then the transfer functions in Z-R-T coordinate system\n",
    "    tfs = pw.tf_from_xyz(trxyz,pvh=False)\n",
    "\n",
    "    # Append to streams\n",
    "    trR.append(tfs[0]); trT.append(tfs[1])\n"
   ]
  },
  {
   "cell_type": "markdown",
   "metadata": {},
   "source": [
    "The result of the previous loop is a set of transfer functions. To get receiver functions, we simply filter the `Stream` objects using some frequency corners"
   ]
  },
  {
   "cell_type": "code",
   "execution_count": 9,
   "metadata": {},
   "outputs": [
    {
     "data": {
      "text/plain": [
       "36 Trace(s) in Stream:\n",
       "\n",
       "... | 1970-01-01T00:00:00.000000Z - 1970-01-01T00:00:29.990000Z | 100.0 Hz, 3000 samples\n",
       "...\n",
       "(34 other traces)\n",
       "...\n",
       "... | 1970-01-01T00:00:00.000000Z - 1970-01-01T00:00:29.990000Z | 100.0 Hz, 3000 samples\n",
       "\n",
       "[Use \"print(Stream.__str__(extended=True))\" to print all Traces]"
      ]
     },
     "execution_count": 9,
     "metadata": {},
     "output_type": "execute_result"
    }
   ],
   "source": [
    "# Set frequency corners in Hz\n",
    "f1 = 0.01\n",
    "f2 = 1.0\n",
    "\n",
    "# Filter to get wave-like traces\n",
    "trR.filter('bandpass',freqmin=f1, freqmax=f2, corners=2, zerophase=True)\n",
    "trT.filter('bandpass',freqmin=f1, freqmax=f2, corners=2, zerophase=True)"
   ]
  },
  {
   "cell_type": "markdown",
   "metadata": {},
   "source": [
    "Now plot the result as wiggles, using the format displayed in the paper by Porter et al. (2011). We also need to define 'stacked traces' that represent the average of all recceiver functions to be displayed."
   ]
  },
  {
   "cell_type": "code",
   "execution_count": 10,
   "metadata": {},
   "outputs": [
    {
     "name": "stdout",
     "output_type": "stream",
     "text": [
      "\n",
      "Stacking ALL traces in streams\n"
     ]
    },
    {
     "ename": "TypeError",
     "evalue": "rf_wiggles_baz() got an unexpected keyword argument 'title'",
     "output_type": "error",
     "traceback": [
      "\u001b[0;31m---------------------------------------------------------------------------\u001b[0m",
      "\u001b[0;31mTypeError\u001b[0m                                 Traceback (most recent call last)",
      "\u001b[0;32m<ipython-input-10-24be7c33447a>\u001b[0m in \u001b[0;36m<module>\u001b[0;34m\u001b[0m\n\u001b[1;32m      3\u001b[0m \u001b[0;34m\u001b[0m\u001b[0m\n\u001b[1;32m      4\u001b[0m \u001b[0;31m# Plot as wiggles\u001b[0m\u001b[0;34m\u001b[0m\u001b[0;34m\u001b[0m\u001b[0;34m\u001b[0m\u001b[0m\n\u001b[0;32m----> 5\u001b[0;31m \u001b[0mwg\u001b[0m\u001b[0;34m.\u001b[0m\u001b[0mrf_wiggles_baz\u001b[0m\u001b[0;34m(\u001b[0m\u001b[0mtrR\u001b[0m\u001b[0;34m,\u001b[0m \u001b[0mtrT\u001b[0m\u001b[0;34m,\u001b[0m \u001b[0mtrR_stack\u001b[0m\u001b[0;34m,\u001b[0m \u001b[0mtrT_stack\u001b[0m\u001b[0;34m,\u001b[0m \u001b[0;34m'test'\u001b[0m\u001b[0;34m,\u001b[0m \u001b[0mbtyp\u001b[0m\u001b[0;34m=\u001b[0m\u001b[0;34m'baz'\u001b[0m\u001b[0;34m,\u001b[0m \u001b[0mscale\u001b[0m\u001b[0;34m=\u001b[0m\u001b[0;36m1.e3\u001b[0m\u001b[0;34m,\u001b[0m \u001b[0mtmin\u001b[0m\u001b[0;34m=\u001b[0m\u001b[0;34m-\u001b[0m\u001b[0;36m5.\u001b[0m\u001b[0;34m,\u001b[0m \u001b[0mtmax\u001b[0m\u001b[0;34m=\u001b[0m\u001b[0;36m8.\u001b[0m\u001b[0;34m,\u001b[0m \u001b[0msave\u001b[0m\u001b[0;34m=\u001b[0m\u001b[0;32mFalse\u001b[0m\u001b[0;34m,\u001b[0m \u001b[0mtitle\u001b[0m\u001b[0;34m=\u001b[0m\u001b[0;34m'_python'\u001b[0m\u001b[0;34m)\u001b[0m\u001b[0;34m\u001b[0m\u001b[0;34m\u001b[0m\u001b[0m\n\u001b[0m",
      "\u001b[0;31mTypeError\u001b[0m: rf_wiggles_baz() got an unexpected keyword argument 'title'"
     ]
    }
   ],
   "source": [
    "# Stack over all traces\n",
    "trR_stack, trT_stack = ut.stack_all(trR, trT, pws=True)\n",
    "\n",
    "# Plot as wiggles\n",
    "wg.rf_wiggles_baz(trR, trT, trR_stack, trT_stack, 'test', btyp='baz', scale=1.e3, tmin=-5., tmax=8., save=False, ftitle='_python')"
   ]
  },
  {
   "cell_type": "markdown",
   "metadata": {},
   "source": [
    "And Voilà! \n",
    "\n",
    "Now try the same example but setting `cf.wvtype = 'SV'` to get S receiver functions for the same model. Such an example would correspond to a core-refracted shear wave (such as SKS) with no incident transverse component. In this case the receiver functions are unstable (spectral division by zero-valued SH component). Setting `cf.wvtype = 'Si'` will produce a transverse component receiver function, which is more realistic for incident S waves propagating through the mantle only. Be careful with the slowness values!!!"
   ]
  }
 ],
 "metadata": {
  "kernelspec": {
   "display_name": "Python 3",
   "language": "python",
   "name": "python3"
  },
  "language_info": {
   "codemirror_mode": {
    "name": "ipython",
    "version": 3
   },
   "file_extension": ".py",
   "mimetype": "text/x-python",
   "name": "python",
   "nbconvert_exporter": "python",
   "pygments_lexer": "ipython3",
   "version": "3.7.3"
  }
 },
 "nbformat": 4,
 "nbformat_minor": 2
}
