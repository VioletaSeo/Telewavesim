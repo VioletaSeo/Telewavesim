{
 "cells": [
  {
   "cell_type": "markdown",
   "metadata": {},
   "source": [
    "# Fortran Example 1: A simple example for OBS"
   ]
  },
  {
   "cell_type": "markdown",
   "metadata": {},
   "source": [
    "In this example we generate Green's functions and P receiver functions for an ocean-bottom seismic stations. This example follows that of Figure 2 in Audet (GJI, 2016). \n",
    "\n",
    "Start by importing the necessary modules"
   ]
  },
  {
   "cell_type": "code",
   "execution_count": 1,
   "metadata": {},
   "outputs": [
    {
     "name": "stderr",
     "output_type": "stream",
     "text": [
      "/Users/pascalaudet/anaconda3/envs/tws-dev/lib/python3.7/site-packages/obspy/signal/headers.py:93: FutureWarning: Passing (type, 1) or '1type' as a synonym of type is deprecated; in a future version of numpy, it will be understood as (type, (1,)) / '(1,)type'.\n",
      "  ], align=True)\n"
     ]
    }
   ],
   "source": [
    "import numpy as np\n",
    "from obspy.core import Stream, Trace\n",
    "from obspy.signal.rotate import rotate_ne_rt\n",
    "from telewavesim import green as gp\n",
    "from telewavesim import utils as ut\n",
    "from telewavesim import wiggle as wg\n",
    "from telewavesim import conf as cf"
   ]
  },
  {
   "cell_type": "markdown",
   "metadata": {},
   "source": [
    "In addition to the previous imports, we need to import the compiled Fortran modules to pass global variables and run the main routine"
   ]
  },
  {
   "cell_type": "code",
   "execution_count": 2,
   "metadata": {},
   "outputs": [],
   "source": [
    "from telewavesim.rmat_f import green as gp_f\n",
    "from telewavesim.rmat_f import conf as cf_f"
   ]
  },
  {
   "cell_type": "markdown",
   "metadata": {},
   "source": [
    "Select the model file:"
   ]
  },
  {
   "cell_type": "code",
   "execution_count": 3,
   "metadata": {},
   "outputs": [],
   "source": [
    "modfile = '../../models/model_Audet2016.txt'"
   ]
  },
  {
   "cell_type": "markdown",
   "metadata": {},
   "source": [
    "Select the type of incident wave - options are `'P'`, `'SV'`, `'SH'`, or `'Si'`, which is an isotropic S-wave source"
   ]
  },
  {
   "cell_type": "code",
   "execution_count": 4,
   "metadata": {},
   "outputs": [],
   "source": [
    "cf.wvtype = 'P'"
   ]
  },
  {
   "cell_type": "markdown",
   "metadata": {},
   "source": [
    "Next we use global variables to define the desired time series"
   ]
  },
  {
   "cell_type": "code",
   "execution_count": 5,
   "metadata": {},
   "outputs": [],
   "source": [
    "cf.nt = 3000 # Number of samples\n",
    "cf.dt = 0.01 # sampling rate in seconds"
   ]
  },
  {
   "cell_type": "markdown",
   "metadata": {},
   "source": [
    "Here we choose to model the Green's functions for an ocean-bottom station, so we specify the deployment depth"
   ]
  },
  {
   "cell_type": "code",
   "execution_count": 6,
   "metadata": {},
   "outputs": [],
   "source": [
    "cf.dp = 2000. # Deployment depth below sea level in meters"
   ]
  },
  {
   "cell_type": "markdown",
   "metadata": {},
   "source": [
    "The parameters (P-wave velocity and density) of the water layer have default values of 1500 m/s and 1027 kg/m^3, respectively, but these values can be changed here"
   ]
  },
  {
   "cell_type": "code",
   "execution_count": 7,
   "metadata": {},
   "outputs": [],
   "source": [
    "cf.c = 1500.    # P-wave velocity in salt water (m/s)\n",
    "cf.rhof = 1027. # Density of salt water (kg/m^3)"
   ]
  },
  {
   "cell_type": "markdown",
   "metadata": {},
   "source": [
    "Here we need a call to pass the global Python variables to their Fortran equivalent"
   ]
  },
  {
   "cell_type": "code",
   "execution_count": 8,
   "metadata": {},
   "outputs": [],
   "source": [
    "ut.obs2for()"
   ]
  },
  {
   "cell_type": "markdown",
   "metadata": {},
   "source": [
    "Now specify the parameters of the incident wavefield in terms of a horizontal slowness and back-azimuth."
   ]
  },
  {
   "cell_type": "code",
   "execution_count": 9,
   "metadata": {},
   "outputs": [],
   "source": [
    "cf.slow = 0.06 # Horizontal slowness (or ray parameter) in s/km \n",
    "cf.baz = 0.    # Back-azimuth direction in degrees (has no influence if model is isotropic)"
   ]
  },
  {
   "cell_type": "markdown",
   "metadata": {},
   "source": [
    "Once again, pass global parameters to Fortran"
   ]
  },
  {
   "cell_type": "code",
   "execution_count": 10,
   "metadata": {},
   "outputs": [],
   "source": [
    "ut.wave2for()"
   ]
  },
  {
   "cell_type": "markdown",
   "metadata": {},
   "source": [
    "Read the model parameters from the model file and set global variables (hidden in the function). Up to here, the steps could have been performed in no particular order, except the name of the file that needs to be defined before the call to `read_model()`"
   ]
  },
  {
   "cell_type": "code",
   "execution_count": 11,
   "metadata": {},
   "outputs": [],
   "source": [
    "ut.read_model(modfile)"
   ]
  },
  {
   "cell_type": "markdown",
   "metadata": {},
   "source": [
    "Another call to pass the model parameters to global variables in Fortran"
   ]
  },
  {
   "cell_type": "code",
   "execution_count": 12,
   "metadata": {},
   "outputs": [],
   "source": [
    "ut.model2for()"
   ]
  },
  {
   "cell_type": "markdown",
   "metadata": {},
   "source": [
    "The following step is useful for plotting the Green's functions with respect to the predicted propagation time through the model (from lowermost interface up to the seafloor). "
   ]
  },
  {
   "cell_type": "code",
   "execution_count": 13,
   "metadata": {},
   "outputs": [
    {
     "name": "stdout",
     "output_type": "stream",
     "text": [
      "Predicted propagation time from model:  1.1 sec\n"
     ]
    }
   ],
   "source": [
    "t1 = ut.calc_ttime(cf.slow)\n",
    "print('Predicted propagation time from model: {0:4.1f} sec'.format(t1))"
   ]
  },
  {
   "cell_type": "markdown",
   "metadata": {},
   "source": [
    "This is the main part of the code, where we generate the Green's functions by calling the `green` module. The Fortran implementation returns the time series (as opposed to an `obspy` `Stream` object), so we need a few extra calls to store the output to a 3-component `Stream` with individual traces oriented in North, East and Vertical directions."
   ]
  },
  {
   "cell_type": "code",
   "execution_count": 14,
   "metadata": {},
   "outputs": [],
   "source": [
    "# Calculate the Green's functions\n",
    "ux, uy, uz = gp_f.green_obs(cf.nt,cf.nlay,np.array(cf.wvtype, dtype='c'))\n",
    "\n",
    "# Store in traces\n",
    "tux = Trace(data=ux)\n",
    "tuy = Trace(data=uy)\n",
    "tuz = Trace(data=uz)\n",
    "\n",
    "# Update trace header\n",
    "tux = ut.update_stats(tux, cf.nt, cf.dt, cf.slow, cf.baz)\n",
    "tuy = ut.update_stats(tuy, cf.nt, cf.dt, cf.slow, cf.baz)\n",
    "tuz = ut.update_stats(tuz, cf.nt, cf.dt, cf.slow, cf.baz)\n",
    "\n",
    "# Append to stream\n",
    "trxyz_f = Stream(traces=[tux, tuy, tuz])"
   ]
  },
  {
   "cell_type": "markdown",
   "metadata": {},
   "source": [
    "We could also calculate the transfer functions between components - here since the incident wave is a P-wave, we can get the radial and transverse transfer functions as an `obspy` `Stream` object. The option `pvh=False` tells the code to use the regular Z-R-T geometry. The option `pvh=True` (default) rotates the components to the P-SV-SH wave modes using the seismic velocity of the topmost solid layer. "
   ]
  },
  {
   "cell_type": "code",
   "execution_count": 16,
   "metadata": {},
   "outputs": [],
   "source": [
    "tfs = gp.tf_from_xyz(trxyz_f, pvh=False)"
   ]
  },
  {
   "cell_type": "markdown",
   "metadata": {},
   "source": [
    "Here we can extract individual components as `obspy` `Traces` and rotate them to the Radial and Transverse directions"
   ]
  },
  {
   "cell_type": "code",
   "execution_count": 17,
   "metadata": {},
   "outputs": [],
   "source": [
    "ntr = trxyz_f[0] # North component\n",
    "etr = trxyz_f[1] # East component\n",
    "ztr = trxyz_f[2] # Vertical component\n",
    "\n",
    "# Copy to radial and transverse\n",
    "rtr = ntr.copy() # Radial component\n",
    "ttr = etr.copy() # Transverse component\n",
    "\n",
    "# Rotate to radial and transverse\n",
    "rtr.data, ttr.data = rotate_ne_rt(ntr.data, etr.data, cf.baz)"
   ]
  },
  {
   "cell_type": "markdown",
   "metadata": {},
   "source": [
    "For plotting purposes, we create a new `obspy` `Stream` object that includes one transfer function and two Green's functions"
   ]
  },
  {
   "cell_type": "code",
   "execution_count": 18,
   "metadata": {},
   "outputs": [],
   "source": [
    "strf = Stream(traces=[tfs[0],ztr,rtr])"
   ]
  },
  {
   "cell_type": "markdown",
   "metadata": {},
   "source": [
    "Now plot the result as wiggles, using the format displayed in the paper by Audet (GJI, 2016). First you will have to define frequency corners."
   ]
  },
  {
   "cell_type": "code",
   "execution_count": 19,
   "metadata": {},
   "outputs": [
    {
     "data": {
      "image/png": "[encoded data removed]",
      "text/plain": [
       "<Figure size 432x288 with 3 Axes>"
      ]
     },
     "metadata": {
      "needs_background": "light"
     },
     "output_type": "display_data"
    }
   ],
   "source": [
    "# Set frequency corners in Hz\n",
    "f1 = 0.1\n",
    "f2 = 1.0\n",
    "\n",
    "# Plot as wiggles\n",
    "wg.gf_wiggles_Audet2016(strf, t1=t1, tmax=10., f1=f1, f2=f2, scale=2.e-7, save=False, title='')"
   ]
  },
  {
   "cell_type": "markdown",
   "metadata": {},
   "source": [
    "That's it! You can play with these parameters and change the model file (while respecting its format) and see how the seismograms change."
   ]
  }
 ],
 "metadata": {
  "kernelspec": {
   "display_name": "Python 3",
   "language": "python",
   "name": "python3"
  },
  "language_info": {
   "codemirror_mode": {
    "name": "ipython",
    "version": 3
   },
   "file_extension": ".py",
   "mimetype": "text/x-python",
   "name": "python",
   "nbconvert_exporter": "python",
   "pygments_lexer": "ipython3",
   "version": "3.7.3"
  }
 },
 "nbformat": 4,
 "nbformat_minor": 2
}
