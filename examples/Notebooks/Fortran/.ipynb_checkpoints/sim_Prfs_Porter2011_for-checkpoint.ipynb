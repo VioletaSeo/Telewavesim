{
 "cells": [
  {
   "cell_type": "markdown",
   "metadata": {},
   "source": [
    "# Fortan Example 2: Lower crustal anisotropy"
   ]
  },
  {
   "cell_type": "markdown",
   "metadata": {},
   "source": [
    "In this example we generate P receiver functions for a model that includes a lower-crustal anisotropic layer. This example follows that of Figure 2 in Porter et al. (2011). \n",
    "\n",
    "Start by importing the necessary modules"
   ]
  },
  {
   "cell_type": "code",
   "execution_count": 1,
   "metadata": {},
   "outputs": [
    {
     "name": "stderr",
     "output_type": "stream",
     "text": [
      "/Users/pascalaudet/anaconda3/envs/tws-dev/lib/python3.7/site-packages/obspy/signal/headers.py:93: FutureWarning: Passing (type, 1) or '1type' as a synonym of type is deprecated; in a future version of numpy, it will be understood as (type, (1,)) / '(1,)type'.\n",
      "  ], align=True)\n"
     ]
    }
   ],
   "source": [
    "import numpy as np\n",
    "from obspy.core import Stream, Trace\n",
    "from obspy.signal.rotate import rotate_ne_rt\n",
    "from telewavesim import plane as pw\n",
    "from telewavesim import utils as ut\n",
    "from telewavesim import wiggle as wg\n",
    "from telewavesim import conf as cf"
   ]
  },
  {
   "cell_type": "markdown",
   "metadata": {},
   "source": [
    "In addition to the previous imports, we need to import the compiled Fortran modules to pass global variables and run the main routine"
   ]
  },
  {
   "cell_type": "code",
   "execution_count": 2,
   "metadata": {},
   "outputs": [],
   "source": [
    "from telewavesim.rmat_f import plane as pw_f\n",
    "from telewavesim.rmat_f import conf as cf_f"
   ]
  },
  {
   "cell_type": "markdown",
   "metadata": {},
   "source": [
    "Select the model file:"
   ]
  },
  {
   "cell_type": "code",
   "execution_count": 3,
   "metadata": {},
   "outputs": [],
   "source": [
    "modfile = '../../models/model_Porter2011.txt'"
   ]
  },
  {
   "cell_type": "markdown",
   "metadata": {},
   "source": [
    "Select the type of incident wave - options are 'P', 'SV', 'SH', or 'Si', which is an isotropic S-wave source"
   ]
  },
  {
   "cell_type": "code",
   "execution_count": 4,
   "metadata": {},
   "outputs": [],
   "source": [
    "cf.wvtype = 'P'"
   ]
  },
  {
   "cell_type": "markdown",
   "metadata": {},
   "source": [
    "Next we use global variables to define the desired time series"
   ]
  },
  {
   "cell_type": "code",
   "execution_count": 5,
   "metadata": {},
   "outputs": [],
   "source": [
    "cf.nt = 3000 # Number of samples\n",
    "cf.dt = 0.01 # sampling rate in seconds"
   ]
  },
  {
   "cell_type": "markdown",
   "metadata": {},
   "source": [
    "Now specify the parameters of the incident wavefield in terms of a horizontal slowness and back-azimuth. In this example the slowness won't change, so we can pass it as a global variable now. The back-azimuth will range from 0 to 360 degrees with a 10-degree increment, so we define a `np.ndarray` for this variable and do not yet pass it as a global variable."
   ]
  },
  {
   "cell_type": "code",
   "execution_count": 6,
   "metadata": {},
   "outputs": [],
   "source": [
    "cf.slow = 0.06 # Horizontal slowness (or ray parameter) in s/km \n",
    "baz = np.arange(0., 360., 10.)"
   ]
  },
  {
   "cell_type": "markdown",
   "metadata": {},
   "source": [
    "Read the model parameters from the model file and set global variables (hidden in the function). Up to here, the steps could have been performed in no particular order, except the name of the file that needs to be defined before the call to `read_model()`"
   ]
  },
  {
   "cell_type": "code",
   "execution_count": 7,
   "metadata": {},
   "outputs": [],
   "source": [
    "ut.read_model(modfile)"
   ]
  },
  {
   "cell_type": "markdown",
   "metadata": {},
   "source": [
    "Pass the model parameters to global variables in Fortran"
   ]
  },
  {
   "cell_type": "code",
   "execution_count": 8,
   "metadata": {},
   "outputs": [],
   "source": [
    "ut.model2for()"
   ]
  },
  {
   "cell_type": "markdown",
   "metadata": {},
   "source": [
    "As we need to loop through back-azimuth values, we will initialize empty `Stream` objects to store the traces from the output of the main routine. "
   ]
  },
  {
   "cell_type": "code",
   "execution_count": 9,
   "metadata": {},
   "outputs": [],
   "source": [
    "trR_f = Stream(); trT_f = Stream()"
   ]
  },
  {
   "cell_type": "markdown",
   "metadata": {},
   "source": [
    "Now the main loop over back-azimuths where all calculations are done - self explanatory. The Fortran implementation returns the time series (as opposed to an obspy Stream object), so we need a few extra calls to store the output to a 3-component Stream with individual traces oriented in North, East and Vertical directions. Don't forget to pass the global variables to Fortran!"
   ]
  },
  {
   "cell_type": "code",
   "execution_count": 10,
   "metadata": {},
   "outputs": [],
   "source": [
    "# Loop over range of data \n",
    "for bb in baz:\n",
    "\n",
    "    # Pass baz global variable\n",
    "    cf.baz = bb\n",
    "    \n",
    "    # Pass wavefield variables to \n",
    "    ut.wave2for()\n",
    "    \n",
    "    # Calculate the Green's functions\n",
    "    ux, uy, uz = pw_f.plane_land(cf.nt,cf.nlay,np.array(cf.wvtype, dtype='c'))\n",
    "\n",
    "    # Store in traces\n",
    "    tux = Trace(data=ux)\n",
    "    tuy = Trace(data=uy)\n",
    "    tuz = Trace(data=uz)\n",
    "\n",
    "    # Update trace header\n",
    "    tux = ut.update_stats(tux, cf.nt, cf.dt, cf.slow, cf.baz)\n",
    "    tuy = ut.update_stats(tuy, cf.nt, cf.dt, cf.slow, cf.baz)\n",
    "    tuz = ut.update_stats(tuz, cf.nt, cf.dt, cf.slow, cf.baz)\n",
    "\n",
    "    # Append to stream\n",
    "    trxyz_f = Stream(traces=[tux, tuy, tuz])\n",
    "\n",
    "    # Then the transfer functions\n",
    "    tfs_f = pw.tf_from_xyz(trxyz_f,pvh=False)\n",
    "\n",
    "    # Append to streams\n",
    "    trR_f.append(tfs_f[0]); trT_f.append(tfs_f[1])"
   ]
  },
  {
   "cell_type": "markdown",
   "metadata": {},
   "source": [
    "The result of the previous loop is a set of transfer functions. To get receiver functions, we simply filter the `Stream` objects using some frequency corners"
   ]
  },
  {
   "cell_type": "code",
   "execution_count": 11,
   "metadata": {},
   "outputs": [
    {
     "data": {
      "text/plain": [
       "36 Trace(s) in Stream:\n",
       "\n",
       "... | 1970-01-01T00:00:00.000000Z - 1970-01-01T00:00:29.990000Z | 100.0 Hz, 3000 samples\n",
       "...\n",
       "(34 other traces)\n",
       "...\n",
       "... | 1970-01-01T00:00:00.000000Z - 1970-01-01T00:00:29.990000Z | 100.0 Hz, 3000 samples\n",
       "\n",
       "[Use \"print(Stream.__str__(extended=True))\" to print all Traces]"
      ]
     },
     "execution_count": 11,
     "metadata": {},
     "output_type": "execute_result"
    }
   ],
   "source": [
    "# Set frequency corners in Hz\n",
    "f1 = 0.01\n",
    "f2 = 1.0\n",
    "\n",
    "# Filter to get wave-like traces\n",
    "trR_f.filter('bandpass',freqmin=f1, freqmax=f2, corners=2, zerophase=True)\n",
    "trT_f.filter('bandpass',freqmin=f1, freqmax=f2, corners=2, zerophase=True)"
   ]
  },
  {
   "cell_type": "markdown",
   "metadata": {},
   "source": [
    "Now plot the result as wiggles, using the format displayed in the paper by Porter et al. (2011). We also need to define 'stacked traces' that represent the average of all recceiver functions to be displayed."
   ]
  },
  {
   "cell_type": "code",
   "execution_count": 12,
   "metadata": {},
   "outputs": [
    {
     "name": "stdout",
     "output_type": "stream",
     "text": [
      "\n",
      "Stacking ALL traces in streams\n",
      "\n",
      "Plotting Wiggles by baz\n"
     ]
    },
    {
     "data": {
      "image/png": "[encoded data removed]",
      "text/plain": [
       "<Figure size 432x288 with 4 Axes>"
      ]
     },
     "metadata": {
      "needs_background": "light"
     },
     "output_type": "display_data"
    }
   ],
   "source": [
    "# Stack over all traces\n",
    "trR_f_stack, trT_f_stack = ut.stack_all(trR_f, trT_f, pws=True)\n",
    "\n",
    "# Plot as wiggles\n",
    "wg.rf_wiggles_baz(trR_f, trT_f, trR_f[0], trT_f[0], 'test', btyp='baz', scale=1.e3, tmin=-5., tmax=8., save=False, ftitle='_fortran')"
   ]
  },
  {
   "cell_type": "markdown",
   "metadata": {},
   "source": [
    "And Voilà! \n",
    "\n",
    "Now try the same example but setting `cf.wvtype = 'SV'` to get S receiver functions for the same model. Such an example would correspond to a core-refracted shear wave (such as SKS) with no incident transverse component. In this case the receiver functions are unstable (spectral division by zero-valued SH component). Setting `cf.wvtype = 'Si'` will produce a transverse component receiver function, which is more realistic for incident S waves propagating through the mantle only. Be careful with the slowness values!!!"
   ]
  }
 ],
 "metadata": {
  "kernelspec": {
   "display_name": "Python 3",
   "language": "python",
   "name": "python3"
  },
  "language_info": {
   "codemirror_mode": {
    "name": "ipython",
    "version": 3
   },
   "file_extension": ".py",
   "mimetype": "text/x-python",
   "name": "python",
   "nbconvert_exporter": "python",
   "pygments_lexer": "ipython3",
   "version": "3.7.3"
  }
 },
 "nbformat": 4,
 "nbformat_minor": 2
}
